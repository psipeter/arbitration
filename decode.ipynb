{
 "cells": [
  {
   "cell_type": "code",
   "execution_count": 1,
   "id": "53d9b4e1-0ca4-4655-9f2b-4c178a5c7f26",
   "metadata": {},
   "outputs": [],
   "source": [
    "import numpy as np\n",
    "import pandas as pd\n",
    "import pickle\n",
    "import matplotlib.pyplot as plt\n",
    "import seaborn as sns\n",
    "import scipy\n",
    "import hdbscan\n",
    "from scipy.stats import entropy\n",
    "from scipy.spatial.distance import pdist, squareform\n",
    "from scipy.stats import spearmanr\n",
    "from collections import Counter\n",
    "from sklearn.linear_model import Ridge\n",
    "from sklearn.model_selection import cross_val_score\n",
    "from sklearn.metrics import make_scorer, mean_squared_error\n",
    "from sklearn.pipeline import make_pipeline\n",
    "from sklearn.preprocessing import StandardScaler\n",
    "from sklearn.decomposition import PCA\n",
    "from sklearn.manifold import TSNE\n",
    "\n",
    "\n",
    "palette = sns.color_palette('tab10')\n",
    "sns.set_palette(palette)\n",
    "sns.set(context='paper', style='white', font=\"cmr10\", font_scale=1.0)\n",
    "plt.rcParams['axes.formatter.use_mathtext'] = True"
   ]
  },
  {
   "cell_type": "markdown",
   "id": "753c28d2-1cfd-4c05-a8d1-5f071f978958",
   "metadata": {},
   "source": [
    "# Load all the spike and value data"
   ]
  },
  {
   "cell_type": "code",
   "execution_count": 2,
   "id": "e29bacf9-dc1e-49c5-b1e7-6a5758363000",
   "metadata": {},
   "outputs": [],
   "source": [
    "def load_nef_values(load=True):\n",
    "    if load:\n",
    "        values = pd.read_pickle(\"data/nef_values_condensed.pkl\")\n",
    "    else:\n",
    "        emp = pd.read_pickle(\"data/empirical.pkl\")\n",
    "        dfs = []\n",
    "        for monkey in ['V', 'W']:\n",
    "            for session in [0,1,2,3]:\n",
    "                for block in emp.query(\"monkey==@monkey & session==@session\")['block'].unique():\n",
    "                    for trial in emp.query(\"monkey==@monkey & session==@session & block==@block\")['trial'].unique():\n",
    "                        file = f\"monkey{monkey}_session{session}_block{block}_trial{trial}\"\n",
    "                        dfs.append(pd.read_pickle(f'data/nef_spikes_old/{file}_values.pkl'))\n",
    "        values = pd.concat(dfs, ignore_index=True)\n",
    "        values['dvs'] = np.abs(values['va'] - values['vb'])\n",
    "        values['dva'] = np.abs(values['vl'] - values['vr'])\n",
    "        # values.rename(columns={'wab': 'w'}, inplace=True)\n",
    "        values.to_pickle(\"data/nef_values_condensed.pkl\")\n",
    "    return values"
   ]
  },
  {
   "cell_type": "code",
   "execution_count": 3,
   "id": "c815e948-f337-4c23-87ca-5d0bc638d366",
   "metadata": {},
   "outputs": [],
   "source": [
    "def load_rl_values(load=True):\n",
    "    if load:\n",
    "        values = pd.read_pickle(\"data/rl_values_condensed.pkl\")\n",
    "    else:\n",
    "        dfs = []\n",
    "        for monkey in ['V', 'W']:\n",
    "            for session in [0,1,2,3]:\n",
    "                for block in range(1, 25):\n",
    "                    for trial in range(1, 81):\n",
    "                        file = f\"monkey{monkey}_session{session}_block{block}_trial{trial}\"\n",
    "                        try:\n",
    "                            dfs.append(pd.read_pickle(f'data/emp_spikes/{file}_values.pkl'))\n",
    "                        except:\n",
    "                            print(block, trial)\n",
    "        values = pd.concat(dfs, ignore_index=True)\n",
    "        values = values.drop(columns='omega')\n",
    "        values = values.dropna()\n",
    "        values.to_pickle(\"data/rl_values_condensed.pkl\")\n",
    "    return values"
   ]
  },
  {
   "cell_type": "code",
   "execution_count": 4,
   "id": "90dc6f51-261a-45c9-9b31-0502a2ebf50f",
   "metadata": {},
   "outputs": [],
   "source": [
    "def load_nef_spikes(load=True, save_combined=True):\n",
    "    if load:\n",
    "        with open('data/nef_spikes_condensed.pkl', 'rb') as file:\n",
    "            nef_spikes = pickle.load(file)\n",
    "    else:\n",
    "        nef_spikes = {}\n",
    "        emp = pd.read_pickle(\"data/empirical.pkl\")\n",
    "        for monkey in emp['monkey'].unique():\n",
    "            nef_spikes[monkey] = {}\n",
    "            for session in emp['session'].unique():\n",
    "                session = int(session)\n",
    "                nef_spikes[monkey][session] = {}\n",
    "                for block in emp.query(\"monkey==@monkey & session==@session\")['block'].unique():\n",
    "                    block = int(block)\n",
    "                    nef_spikes[monkey][session][block] = {}\n",
    "                    for trial in emp.query(\"monkey==@monkey & session==@session & block==@block\")['trial'].unique():\n",
    "                        trial=int(trial)\n",
    "                        v = np.load(f\"data/nef_spikes_old/monkey{monkey}_session{session}_block{block}_trial{trial}_spikes.npz\")['v'].sum(axis=0)  # sum over time\n",
    "                        w = np.load(f\"data/nef_spikes_old/monkey{monkey}_session{session}_block{block}_trial{trial}_spikes.npz\")['w'].sum(axis=0)  # sum over time\n",
    "                        a = np.load(f\"data/nef_spikes_old/monkey{monkey}_session{session}_block{block}_trial{trial}_spikes.npz\")['a'].sum(axis=0)  # sum over time\n",
    "                        # vwa = np.load(f\"data/nef_spikes_old/monkey{monkey}_session{session}_block{block}_trial{trial}_spikes.npz\")['vwa'].sum(axis=0)  # sum over time\n",
    "                        # evc = np.load(f\"data/nef_spikes_old/monkey{monkey}_session{session}_block{block}_trial{trial}_spikes.npz\")['evc'].sum(axis=0)  # sum over time\n",
    "                        # ewt = np.load(f\"data/nef_spikes_old/monkey{monkey}_session{session}_block{block}_trial{trial}_spikes.npz\")['ewt'].sum(axis=0)  # sum over time\n",
    "                        if save_combined:\n",
    "                            combined = np.concatenate([v,w,a], axis=0)\n",
    "                            # combined = np.concatenate([v,w,a,vwa,evc,ewt], axis=0)\n",
    "                            nef_spikes[monkey][session][block][trial] = combined\n",
    "                        else:\n",
    "                            nef_spikes[monkey][session][block][trial] = {}\n",
    "                            nef_spikes[monkey][session][block][trial]['v'] = v\n",
    "                            nef_spikes[monkey][session][block][trial]['w'] = w\n",
    "                            nef_spikes[monkey][session][block][trial]['a'] = a\n",
    "                            # nef_spikes[monkey][session][block][trial]['vwa'] = vwa\n",
    "                            # nef_spikes[monkey][session][block][trial]['evc'] = evc\n",
    "                            # nef_spikes[monkey][session][block][trial]['ewt'] = ewt\n",
    "        filename = \"nef_spikes_condensed\" if save_combined else \"nef_spikes_bypop\"\n",
    "        with open(f'data/{filename}.pkl', 'wb') as f:\n",
    "            pickle.dump(nef_spikes, f)\n",
    "    return nef_spikes"
   ]
  },
  {
   "cell_type": "code",
   "execution_count": 8,
   "id": "6bfe47ab-e457-4d0d-8603-4b1d1888ec06",
   "metadata": {},
   "outputs": [],
   "source": [
    "def load_monkey_spikes(load=True):\n",
    "    if load:\n",
    "        with open('data/monkey_spikes_condensed.pkl', 'rb') as file:\n",
    "            emp_spikes = pickle.load(file)\n",
    "    else:\n",
    "        emp_spikes = {}\n",
    "        emp = pd.read_pickle(\"data/empirical.pkl\")\n",
    "        for monkey in emp['monkey'].unique():\n",
    "            emp_spikes[monkey] = {}\n",
    "            for session in emp['session'].unique():\n",
    "                session = int(session)\n",
    "                emp_spikes[monkey][session] = {}\n",
    "                for block in emp.query(\"monkey==@monkey & session==@session\")['block'].unique():\n",
    "                    block = int(block)\n",
    "                    emp_spikes[monkey][session][block] = {}\n",
    "                    for trial in emp.query(\"monkey==@monkey & session==@session & block==@block\")['trial'].unique():\n",
    "                        trial=int(trial)\n",
    "                        try:\n",
    "                            file = f\"data/emp_spikes/monkey{monkey}_session{session}_block{block}_trial{trial}_spikes.npz\"\n",
    "                            emp_spikes[monkey][session][block][trial] = np.load(file)['spikes']\n",
    "                        except:\n",
    "                            pass\n",
    "        with open('data/monkey_spikes_condensed.pkl', 'wb') as f:\n",
    "            pickle.dump(emp_spikes, f)\n",
    "    return emp_spikes"
   ]
  },
  {
   "cell_type": "code",
   "execution_count": null,
   "id": "5e74c84a-301e-4ae5-99bc-01b8fa14cc7f",
   "metadata": {},
   "outputs": [],
   "source": [
    "nef_values = load_nef_values(load=False)\n",
    "rl_values = load_rl_values(load=False)"
   ]
  },
  {
   "cell_type": "code",
   "execution_count": 7,
   "id": "8c982f0a-bc01-481e-8fac-3fae44367476",
   "metadata": {},
   "outputs": [],
   "source": [
    "nef_spikes = load_nef_spikes(load=False)\n",
    "monkey_spikes = load_monkey_spikes(load=False)"
   ]
  },
  {
   "cell_type": "markdown",
   "id": "16e9097d-cf32-4798-ae1b-ebccf6e7ae9d",
   "metadata": {},
   "source": [
    "# Use linear regression to predict values using spikes"
   ]
  },
  {
   "cell_type": "code",
   "execution_count": 12,
   "id": "082f8100-1431-4b75-a8de-a390d46ae421",
   "metadata": {},
   "outputs": [],
   "source": [
    "def clean_paired_array_lists(list1, list2):\n",
    "    if len(list1) != len(list2):\n",
    "        raise ValueError(\"Input lists must be of equal length.\")\n",
    "    \n",
    "    # Step 1: Remove pairs where list1 has NaNs\n",
    "    filtered_pairs = [(a1, a2) for a1, a2 in zip(list1, list2) if not np.isnan(a1).any()]\n",
    "    \n",
    "    if not filtered_pairs:\n",
    "        return [], []\n",
    "\n",
    "    # Step 2: Find the most common shape in list1 after filtering NaNs\n",
    "    shapes = [a1.shape for a1, _ in filtered_pairs]\n",
    "    most_common_shape = Counter(shapes).most_common(1)[0][0]\n",
    "\n",
    "    # Step 3: Keep only pairs where a1 has the most common shape\n",
    "    cleaned_list1 = [a1 for a1, a2 in filtered_pairs if a1.shape == most_common_shape]\n",
    "    cleaned_list2 = [a2 for a1, a2 in filtered_pairs if a1.shape == most_common_shape]\n",
    "\n",
    "    return np.array(cleaned_list1), np.array(cleaned_list2)"
   ]
  },
  {
   "cell_type": "code",
   "execution_count": 15,
   "id": "492f2dfc-ec81-422a-996c-5722f12384ae",
   "metadata": {},
   "outputs": [],
   "source": [
    "def regress_spikes_values(spikes, values, value_type):\n",
    "    dfs_error = []\n",
    "    dfs_trial = []\n",
    "    if value_type=='rl':\n",
    "        variables = ['va', 'vb', 'vl', 'vr', 'w', 'al', 'ar', 'dw', 'dvc', 'dvs', 'dva']\n",
    "    elif value_type=='nef':\n",
    "        variables = ['va', 'vb', 'vl', 'vr', 'wab', 'wlr', 'al', 'ar']#, 'evc', 'ewt']\n",
    "    columns_error = ['monkey', 'session', 'variable', 'error']\n",
    "    columns_trial = ['monkey', 'session', 'block', 'trial', 'var', 'true_value', 'pred_value', 'abs_perc_err']\n",
    "    regression_dict = {}\n",
    "    for monkey in ['V', 'W']:\n",
    "        regression_dict[monkey] = {}\n",
    "        for session in [0,1,2,3]:\n",
    "            regression_dict[monkey][session] = {}\n",
    "            for variable in variables:\n",
    "                print(monkey, session, variable)\n",
    "                X = []\n",
    "                Y = []\n",
    "                for block in values.query(\"monkey==@monkey & session==@session\")['block'].unique():\n",
    "                    for trial in values.query(\"monkey==@monkey & session==@session & block==@block\")['trial'].unique():\n",
    "                        try:\n",
    "                            x = spikes[monkey][session][block][trial]\n",
    "                            y = values.query(\"monkey==@monkey & session==@session & block==@block & trial==@trial\")[variable].to_numpy()\n",
    "                            X.append(x)\n",
    "                            Y.append(y)\n",
    "                        except:\n",
    "                            pass\n",
    "                X, Y = clean_paired_array_lists(X, Y)\n",
    "                pipeline = make_pipeline(StandardScaler(), Ridge(alpha=1.0))\n",
    "                pipeline.fit(X, Y)\n",
    "                regression_dict[monkey][session][variable] = pipeline\n",
    "                scoring = make_scorer(mean_squared_error, greater_is_better=False)\n",
    "                cv_scores = cross_val_score(pipeline, X, Y, cv=10, scoring=scoring)\n",
    "                mse = np.mean(-cv_scores)\n",
    "                dfs_error.append(pd.DataFrame([[monkey, session, variable, mse]], columns=columns_error))\n",
    "                # for block in values.query(\"monkey==@monkey & session==@session\")['block'].unique():\n",
    "                #     for trial in values.query(\"monkey==@monkey & session==@session & block==@block\")['trial'].unique():\n",
    "                #         x = spikes[monkey][session][block][trial].reshape(-1,1).T\n",
    "                #         y = values.query(\"monkey==@monkey & session==@session & block==@block & trial==@trial\")[variable].to_numpy()[0]\n",
    "                for i in range(len(X)):\n",
    "                    x, y = X[i], Y[i][0]\n",
    "                    y_pred = regression_dict[monkey][session][variable].predict(x.reshape(-1,1).T)[0]\n",
    "                    e = np.abs(y-y_pred)/y if y!=0 else None\n",
    "                    dfs_trial.append(pd.DataFrame([[monkey, session, block, trial, variable, y, y_pred, e]], columns=columns_trial))\n",
    "            print(X.sum())\n",
    "    data_error = pd.concat(dfs_error, ignore_index=True)\n",
    "    data_trial = pd.concat(dfs_trial, ignore_index=True)\n",
    "    data_error.to_pickle(\"data/data_error.pkl\")\n",
    "    data_trial.to_pickle(\"data/data_trial.pkl\")\n",
    "    return data_error, data_trial"
   ]
  },
  {
   "cell_type": "markdown",
   "id": "97501848-afd5-4dea-8b99-afa1fc2b1e98",
   "metadata": {},
   "source": [
    "# NEF"
   ]
  },
  {
   "cell_type": "code",
   "execution_count": 65,
   "id": "587516fa-6f23-4df3-8671-7c0f641bc234",
   "metadata": {
    "scrolled": true
   },
   "outputs": [
    {
     "name": "stdout",
     "output_type": "stream",
     "text": [
      "V 0 va\n",
      "V 0 vb\n",
      "V 0 vl\n",
      "V 0 vr\n",
      "V 0 wab\n",
      "V 0 wlr\n",
      "V 0 al\n",
      "V 0 ar\n",
      "V 1 va\n",
      "V 1 vb\n",
      "V 1 vl\n",
      "V 1 vr\n",
      "V 1 wab\n",
      "V 1 wlr\n",
      "V 1 al\n",
      "V 1 ar\n",
      "V 2 va\n",
      "V 2 vb\n",
      "V 2 vl\n",
      "V 2 vr\n",
      "V 2 wab\n",
      "V 2 wlr\n",
      "V 2 al\n",
      "V 2 ar\n",
      "V 3 va\n",
      "V 3 vb\n",
      "V 3 vl\n",
      "V 3 vr\n",
      "V 3 wab\n",
      "V 3 wlr\n",
      "V 3 al\n",
      "V 3 ar\n",
      "W 0 va\n",
      "W 0 vb\n",
      "W 0 vl\n",
      "W 0 vr\n",
      "W 0 wab\n",
      "W 0 wlr\n",
      "W 0 al\n",
      "W 0 ar\n",
      "W 1 va\n",
      "W 1 vb\n",
      "W 1 vl\n",
      "W 1 vr\n",
      "W 1 wab\n",
      "W 1 wlr\n",
      "W 1 al\n",
      "W 1 ar\n",
      "W 2 va\n",
      "W 2 vb\n",
      "W 2 vl\n",
      "W 2 vr\n",
      "W 2 wab\n",
      "W 2 wlr\n",
      "W 2 al\n",
      "W 2 ar\n",
      "W 3 va\n",
      "W 3 vb\n",
      "W 3 vl\n",
      "W 3 vr\n",
      "W 3 wab\n",
      "W 3 wlr\n",
      "W 3 al\n",
      "W 3 ar\n"
     ]
    }
   ],
   "source": [
    "nef_error, nef_trial = regress_spikes_values(nef_spikes, nef_values, 'nef')"
   ]
  },
  {
   "cell_type": "code",
   "execution_count": 228,
   "id": "56d1d601-c61e-4b70-a1b4-81a1b6b4ccbb",
   "metadata": {},
   "outputs": [],
   "source": [
    "# fig, axes = plt.subplots(nrows=1, ncols=1, figsize=(4,3), sharex=False, sharey=False)\n",
    "# sns.kdeplot(nef_trial, x='true_value', hue='var', ax=axes, palette=palette)\n",
    "# axes.set(title=\"RL Distribution\", xlabel='Ground Truth Values')\n",
    "# plt.tight_layout()"
   ]
  },
  {
   "cell_type": "code",
   "execution_count": 66,
   "id": "7428afbf-ad55-462a-b690-0c1f70927f6e",
   "metadata": {},
   "outputs": [
    {
     "name": "stderr",
     "output_type": "stream",
     "text": [
      "/tmp/ipykernel_480232/3605276496.py:2: UserWarning: The palette list has more values (10) than needed (8), which may not be intended.\n",
      "  sns.barplot(nef_error, x='variable', y='error', hue='variable', ax=axes, palette=palette)\n"
     ]
    },
    {
     "data": {
      "image/png": "[encoded data removed]",
      "text/plain": [
       "<Figure size 800x300 with 1 Axes>"
      ]
     },
     "metadata": {},
     "output_type": "display_data"
    }
   ],
   "source": [
    "fig, axes = plt.subplots(nrows=1, ncols=1, figsize=(8, 3), sharey=True, sharex=True)\n",
    "sns.barplot(nef_error, x='variable', y='error', hue='variable', ax=axes, palette=palette)\n",
    "fig.tight_layout()\n",
    "axes.set(ylabel=\"Cross Validation Error\\nNEF Spikes\\nRegression decode - NEF decode\")\n",
    "fig.savefig(\"plots/nef_spikes_nef_values_error.jpg\", dpi=600)"
   ]
  },
  {
   "cell_type": "code",
   "execution_count": 73,
   "id": "fd405108-9798-45c3-af37-c6adf3b96a99",
   "metadata": {},
   "outputs": [],
   "source": [
    "nef_wab = nef_trial.query(\"var=='wab'\")['true_value'].to_numpy()\n",
    "nef_wlr = nef_trial.query(\"var=='wlr'\")['true_value'].to_numpy()\n",
    "nef_dvs = np.abs(nef_trial.query(\"var=='va'\")['true_value'].to_numpy() - nef_trial.query(\"var=='vb'\")['true_value'].to_numpy())\n",
    "nef_dva = np.abs(nef_trial.query(\"var=='vl'\")['true_value'].to_numpy() - nef_trial.query(\"var=='vr'\")['true_value'].to_numpy())\n",
    "nef_p_stim = nef_dvs / (nef_dvs + nef_dva)\n",
    "nef_p_act = nef_dva / (nef_dvs + nef_dva)\n",
    "\n",
    "# w_bins = np.linspace(0, 1, 20)\n",
    "# fig, axes = plt.subplots(nrows=1, ncols=1, figsize=(4,3), sharex=True, sharey=True)\n",
    "# sns.regplot(x=nef_wab, y=nef_p_stim, x_bins=w_bins, ax=axes, color=palette[0], label='deltaQ-stim')\n",
    "# sns.regplot(x=1-nef_wlr, y=nef_p_act, x_bins=w_bins, ax=axes, color=palette[1], label='deltaQ-act')\n",
    "# axes.legend()\n",
    "# axes.set(ylabel=\"DeltaQ-i / deltaQ-total\", xlim=(0.2, 0.8), ylim=(0, 1), title=\"NEF spikes, Regression decode\", xlabel='Omega')\n",
    "# plt.tight_layout()"
   ]
  },
  {
   "cell_type": "markdown",
   "id": "201ae830-21b7-49ef-9c92-3d9aed7e3d15",
   "metadata": {},
   "source": [
    "# RL"
   ]
  },
  {
   "cell_type": "code",
   "execution_count": 16,
   "id": "27cb1cdc-001c-40a1-9ef5-7621ee1a6b3b",
   "metadata": {
    "scrolled": true
   },
   "outputs": [
    {
     "name": "stdout",
     "output_type": "stream",
     "text": [
      "V 0 va\n",
      "V 0 vb\n",
      "V 0 vl\n",
      "V 0 vr\n",
      "V 0 w\n",
      "V 0 al\n",
      "V 0 ar\n",
      "V 0 dw\n",
      "V 0 dvc\n",
      "V 0 dvs\n",
      "V 0 dva\n",
      "351002.0\n",
      "V 1 va\n",
      "V 1 vb\n",
      "V 1 vl\n",
      "V 1 vr\n",
      "V 1 w\n",
      "V 1 al\n",
      "V 1 ar\n",
      "V 1 dw\n",
      "V 1 dvc\n",
      "V 1 dvs\n",
      "V 1 dva\n",
      "579040.0\n",
      "V 2 va\n",
      "V 2 vb\n",
      "V 2 vl\n",
      "V 2 vr\n",
      "V 2 w\n",
      "V 2 al\n",
      "V 2 ar\n",
      "V 2 dw\n",
      "V 2 dvc\n",
      "V 2 dvs\n",
      "V 2 dva\n",
      "491607.0\n",
      "V 3 va\n",
      "V 3 vb\n",
      "V 3 vl\n",
      "V 3 vr\n",
      "V 3 w\n",
      "V 3 al\n",
      "V 3 ar\n",
      "V 3 dw\n",
      "V 3 dvc\n",
      "V 3 dvs\n",
      "V 3 dva\n",
      "247736.0\n",
      "W 0 va\n",
      "W 0 vb\n",
      "W 0 vl\n",
      "W 0 vr\n",
      "W 0 w\n",
      "W 0 al\n",
      "W 0 ar\n",
      "W 0 dw\n",
      "W 0 dvc\n",
      "W 0 dvs\n",
      "W 0 dva\n",
      "267012.0\n",
      "W 1 va\n",
      "W 1 vb\n",
      "W 1 vl\n",
      "W 1 vr\n",
      "W 1 w\n",
      "W 1 al\n",
      "W 1 ar\n",
      "W 1 dw\n",
      "W 1 dvc\n",
      "W 1 dvs\n",
      "W 1 dva\n",
      "278862.0\n",
      "W 2 va\n",
      "W 2 vb\n",
      "W 2 vl\n",
      "W 2 vr\n",
      "W 2 w\n",
      "W 2 al\n",
      "W 2 ar\n",
      "W 2 dw\n",
      "W 2 dvc\n",
      "W 2 dvs\n",
      "W 2 dva\n",
      "237437.0\n",
      "W 3 va\n",
      "W 3 vb\n",
      "W 3 vl\n",
      "W 3 vr\n",
      "W 3 w\n",
      "W 3 al\n",
      "W 3 ar\n",
      "W 3 dw\n",
      "W 3 dvc\n",
      "W 3 dvs\n",
      "W 3 dva\n",
      "200448.0\n"
     ]
    },
    {
     "name": "stderr",
     "output_type": "stream",
     "text": [
      "/tmp/ipykernel_529538/1158017990.py:47: FutureWarning: The behavior of DataFrame concatenation with empty or all-NA entries is deprecated. In a future version, this will no longer exclude empty or all-NA columns when determining the result dtypes. To retain the old behavior, exclude the relevant entries before the concat operation.\n",
      "  data_trial = pd.concat(dfs_trial, ignore_index=True)\n"
     ]
    }
   ],
   "source": [
    "monkey_error, monkey_trial = regress_spikes_values(monkey_spikes, rl_values, 'rl')"
   ]
  },
  {
   "cell_type": "code",
   "execution_count": 19,
   "id": "2b35b386-f754-4296-b38e-9db9846c8154",
   "metadata": {
    "scrolled": true
   },
   "outputs": [
    {
     "name": "stdout",
     "output_type": "stream",
     "text": [
      "V 0 va\n",
      "V 0 vb\n",
      "V 0 vl\n",
      "V 0 vr\n",
      "V 0 wab\n",
      "V 0 wlr\n",
      "V 0 al\n",
      "V 0 ar\n",
      "355428.0\n",
      "V 1 va\n",
      "V 1 vb\n",
      "V 1 vl\n",
      "V 1 vr\n",
      "V 1 wab\n",
      "V 1 wlr\n",
      "V 1 al\n",
      "V 1 ar\n",
      "586290.0\n",
      "V 2 va\n",
      "V 2 vb\n",
      "V 2 vl\n",
      "V 2 vr\n",
      "V 2 wab\n",
      "V 2 wlr\n",
      "V 2 al\n",
      "V 2 ar\n",
      "497784.0\n",
      "V 3 va\n",
      "V 3 vb\n",
      "V 3 vl\n",
      "V 3 vr\n",
      "V 3 wab\n",
      "V 3 wlr\n",
      "V 3 al\n",
      "V 3 ar\n",
      "250853.0\n",
      "W 0 va\n",
      "W 0 vb\n",
      "W 0 vl\n",
      "W 0 vr\n",
      "W 0 wab\n",
      "W 0 wlr\n",
      "W 0 al\n",
      "W 0 ar\n",
      "270388.0\n",
      "W 1 va\n",
      "W 1 vb\n",
      "W 1 vl\n",
      "W 1 vr\n",
      "W 1 wab\n",
      "W 1 wlr\n",
      "W 1 al\n",
      "W 1 ar\n",
      "282342.0\n",
      "W 2 va\n",
      "W 2 vb\n",
      "W 2 vl\n",
      "W 2 vr\n",
      "W 2 wab\n",
      "W 2 wlr\n",
      "W 2 al\n",
      "W 2 ar\n",
      "240406.0\n",
      "W 3 va\n",
      "W 3 vb\n",
      "W 3 vl\n",
      "W 3 vr\n",
      "W 3 wab\n",
      "W 3 wlr\n",
      "W 3 al\n",
      "W 3 ar\n",
      "203081.0\n"
     ]
    }
   ],
   "source": [
    "monkey_error2, monkey_trial2 = regress_spikes_values(monkey_spikes, nef_values, 'nef')"
   ]
  },
  {
   "cell_type": "code",
   "execution_count": 231,
   "id": "16570304-6163-417a-a388-0eee68c657e4",
   "metadata": {},
   "outputs": [],
   "source": [
    "# fig, axes = plt.subplots(nrows=1, ncols=1, figsize=(4,3), sharex=False, sharey=False)\n",
    "# sns.kdeplot(monkey_trial, x='true_value', hue='var', ax=axes, palette=palette)\n",
    "# axes.set(title=\"RL Distribution\", xlabel='Ground Truth Values')\n",
    "# plt.tight_layout()"
   ]
  },
  {
   "cell_type": "code",
   "execution_count": 17,
   "id": "44116ed3-9524-46e8-8a62-007424fc5d9a",
   "metadata": {},
   "outputs": [
    {
     "name": "stderr",
     "output_type": "stream",
     "text": [
      "/tmp/ipykernel_529538/2696703505.py:4: RuntimeWarning: invalid value encountered in divide\n",
      "  rl_p_stim = rl_dvs / (rl_dvs + rl_dva)\n",
      "/tmp/ipykernel_529538/2696703505.py:5: RuntimeWarning: invalid value encountered in divide\n",
      "  rl_p_act = rl_dva / (rl_dvs + rl_dva)\n"
     ]
    }
   ],
   "source": [
    "rl_w = monkey_trial.query(\"var=='w'\")['true_value'].to_numpy()\n",
    "rl_dvs = np.abs(monkey_trial.query(\"var=='va'\")['true_value'].to_numpy() - monkey_trial.query(\"var=='vb'\")['true_value'].to_numpy())\n",
    "rl_dva = np.abs(monkey_trial.query(\"var=='vl'\")['true_value'].to_numpy() - monkey_trial.query(\"var=='vr'\")['true_value'].to_numpy())\n",
    "rl_p_stim = rl_dvs / (rl_dvs + rl_dva)\n",
    "rl_p_act = rl_dva / (rl_dvs + rl_dva)\n",
    "\n",
    "# w_bins = np.linspace(0, 1, 20)\n",
    "# fig, axes = plt.subplots(nrows=1, ncols=1, figsize=(4,3), sharex=True, sharey=True)\n",
    "# sns.regplot(x=rl_w, y=rl_p_stim, x_bins=w_bins, ax=axes, color=palette[0], label='deltaQ-stim')\n",
    "# sns.regplot(x=rl_w, y=rl_p_act, x_bins=w_bins, ax=axes, color=palette[1], label='deltaQ-act')\n",
    "# axes.legend()\n",
    "# axes.set(ylabel=\"DeltaQ-i / deltaQ-total\", xlim=(0.2, 0.8), ylim=(0, 1), title=\"RL values only\", xlabel='Omega')\n",
    "# plt.tight_layout()"
   ]
  },
  {
   "cell_type": "markdown",
   "id": "ce254b73-aa0e-41a9-b8b8-d9d215f2650c",
   "metadata": {},
   "source": [
    "# Monkey"
   ]
  },
  {
   "cell_type": "code",
   "execution_count": 18,
   "id": "8f5d2fa3-22e0-4400-8cba-2a1dfaed906c",
   "metadata": {},
   "outputs": [
    {
     "name": "stderr",
     "output_type": "stream",
     "text": [
      "/tmp/ipykernel_529538/2375671899.py:3: UserWarning: The palette list has more values (10) than needed (7), which may not be intended.\n",
      "  sns.barplot(monkey_error.query(\"variable==@rl_vars\"), x='variable', y='error', hue='variable', ax=axes, palette=palette)\n"
     ]
    },
    {
     "data": {
      "image/png": "[encoded data removed]",
      "text/plain": [
       "<Figure size 800x300 with 1 Axes>"
      ]
     },
     "metadata": {},
     "output_type": "display_data"
    }
   ],
   "source": [
    "rl_vars = ['va', 'vb', 'vl', 'vr', 'w', 'al', 'ar']\n",
    "fig, axes = plt.subplots(nrows=1, ncols=1, figsize=(8, 3), sharey=True, sharex=True)\n",
    "sns.barplot(monkey_error.query(\"variable==@rl_vars\"), x='variable', y='error', hue='variable', ax=axes, palette=palette)\n",
    "fig.tight_layout()\n",
    "axes.set(ylabel=\"Cross Validation Error\\nMonkey Spikes\\nRegression decode - RL value\")\n",
    "fig.savefig(\"plots/monkey_spikes_rl_values_error.jpg\", dpi=600)"
   ]
  },
  {
   "cell_type": "code",
   "execution_count": 20,
   "id": "36bc1911-5628-4cd9-8d0b-d0dc4336b89f",
   "metadata": {},
   "outputs": [
    {
     "name": "stderr",
     "output_type": "stream",
     "text": [
      "/tmp/ipykernel_529538/3614138407.py:2: UserWarning: The palette list has more values (10) than needed (8), which may not be intended.\n",
      "  sns.barplot(monkey_error2, x='variable', y='error', hue='variable', ax=axes, palette=palette)\n"
     ]
    },
    {
     "data": {
      "image/png": "[encoded data removed]",
      "text/plain": [
       "<Figure size 800x300 with 1 Axes>"
      ]
     },
     "metadata": {},
     "output_type": "display_data"
    }
   ],
   "source": [
    "fig, axes = plt.subplots(nrows=1, ncols=1, figsize=(8, 3), sharey=True, sharex=True)\n",
    "sns.barplot(monkey_error2, x='variable', y='error', hue='variable', ax=axes, palette=palette)\n",
    "fig.tight_layout()\n",
    "axes.set(ylabel=\"Cross Validation Error\\nMonkey Spikes\\nRegression decode - NEF value\")\n",
    "fig.savefig(\"plots/monkey_spikes_nef_values_error.jpg\", dpi=600)"
   ]
  },
  {
   "cell_type": "code",
   "execution_count": 21,
   "id": "56a919b8-de10-4a35-937e-d22931995171",
   "metadata": {},
   "outputs": [],
   "source": [
    "monkey_w = monkey_trial.query(\"var=='w'\")['pred_value'].to_numpy()\n",
    "monkey_dvs = np.abs(monkey_trial.query(\"var=='va'\")['pred_value'].to_numpy() - monkey_trial.query(\"var=='vb'\")['pred_value'].to_numpy())\n",
    "monkey_dva = np.abs(monkey_trial.query(\"var=='vl'\")['pred_value'].to_numpy() - monkey_trial.query(\"var=='vr'\")['pred_value'].to_numpy())\n",
    "monkey_p_stim = monkey_dvs / (monkey_dvs + monkey_dva)\n",
    "monkey_p_act = monkey_dva / (monkey_dvs + monkey_dva)"
   ]
  },
  {
   "cell_type": "markdown",
   "id": "e3f74c9f-8d63-4bb9-9545-d4014750776a",
   "metadata": {},
   "source": [
    "# 3 omega plots together"
   ]
  },
  {
   "cell_type": "code",
   "execution_count": 235,
   "id": "a35e40b6-c2aa-4621-a37b-95d90685df5b",
   "metadata": {},
   "outputs": [],
   "source": [
    "# w_bins = np.linspace(0, 1, 20)\n",
    "# fig, axes = plt.subplots(nrows=1, ncols=3, figsize=(6,3), sharex=True, sharey=True)\n",
    "# sns.regplot(x=rl_w, y=rl_p_stim, x_bins=w_bins, ax=axes[0], color=palette[0], label='deltaQ-stim')\n",
    "# sns.regplot(x=rl_w, y=rl_p_act, x_bins=w_bins, ax=axes[0], color=palette[1], label='deltaQ-act')\n",
    "# sns.regplot(x=nef_wab, y=nef_p_stim, x_bins=w_bins, ax=axes[1], color=palette[0], label='deltaQ-stim')\n",
    "# sns.regplot(x=1-nef_wlr, y=nef_p_act, x_bins=w_bins, ax=axes[1], color=palette[1], label='deltaQ-act')\n",
    "# sns.regplot(x=monkey_w, y=monkey_p_stim, x_bins=w_bins, ax=axes[2], color=palette[0], label='deltaQ-stim')\n",
    "# sns.regplot(x=monkey_w, y=monkey_p_act, x_bins=w_bins, ax=axes[2], color=palette[1], label='deltaQ-act')\n",
    "# axes[0].legend()\n",
    "# axes[0].set(ylabel=\"DeltaQ-i / deltaQ-total\", xlim=(0.2, 0.8), ylim=(0, 1), xlabel='Omega', title='RL')\n",
    "# axes[1].set(title='NEF')\n",
    "# axes[2].set(title='Monkey')\n",
    "# plt.tight_layout()"
   ]
  },
  {
   "cell_type": "code",
   "execution_count": 80,
   "id": "d15b8a73-fcdd-461b-a92b-e3312571e5ac",
   "metadata": {},
   "outputs": [
    {
     "data": {
      "image/png": "[encoded data removed]",
      "text/plain": [
       "<Figure size 600x300 with 2 Axes>"
      ]
     },
     "metadata": {},
     "output_type": "display_data"
    }
   ],
   "source": [
    "w_bins = np.linspace(0, 1, 20)\n",
    "fig, axes = plt.subplots(nrows=1, ncols=2, figsize=(6,3), sharex=True, sharey=True)\n",
    "sns.regplot(x=rl_w, y=rl_p_stim, x_bins=w_bins, ax=axes[0], color=palette[0], label='RL')\n",
    "sns.regplot(x=nef_wab, y=nef_p_stim, x_bins=w_bins, ax=axes[0], color=palette[1], label='NEF')\n",
    "sns.regplot(x=monkey_w, y=monkey_p_stim, x_bins=w_bins, ax=axes[0], color=palette[2], label='Monkey')\n",
    "sns.regplot(x=rl_w, y=rl_p_act, x_bins=w_bins, ax=axes[1], color=palette[0], label='RL')\n",
    "sns.regplot(x=1-nef_wlr, y=nef_p_act, x_bins=w_bins, ax=axes[1], color=palette[1], label='NEF')\n",
    "sns.regplot(x=monkey_w, y=monkey_p_act, x_bins=w_bins, ax=axes[1], color=palette[2], label='Monkey')\n",
    "axes[0].legend()\n",
    "axes[1].legend()\n",
    "axes[0].set(ylabel='Fraction of Decision Variable', title=\"dQ-stim / dQ-total\", xlim=(0.2, 0.8), ylim=(0, 1), xlabel='Omega')\n",
    "axes[1].set(title=\"dQ-act / dQ-total\", xlabel='Omega')\n",
    "plt.tight_layout()\n",
    "fig.savefig(\"plots/fraction_DV_vs_omega.jpg\", dpi=600)"
   ]
  },
  {
   "cell_type": "code",
   "execution_count": 236,
   "id": "cb1b68ec-c32f-4a4a-9484-0d808cf835d6",
   "metadata": {},
   "outputs": [],
   "source": [
    "# w_bins = np.linspace(0, 1, 20)\n",
    "# line_kws = {'linestyle': '--'}\n",
    "# scatter_kws = {'marker': 's'}\n",
    "# fig, axes = plt.subplots(nrows=1, ncols=1, figsize=(4,3), sharex=True, sharey=True)\n",
    "# sns.regplot(x=rl_w, y=rl_p_stim, x_bins=w_bins, ax=axes, color=palette[0], label='RL (Stim)')\n",
    "# sns.regplot(x=nef_wab, y=nef_p_stim, x_bins=w_bins, ax=axes, color=palette[1], label='NEF (Stim)')\n",
    "# sns.regplot(x=monkey_w, y=monkey_p_stim, x_bins=w_bins, ax=axes, color=palette[2], label='Monkey (Stim)')\n",
    "# sns.regplot(x=rl_w, y=rl_p_act, x_bins=w_bins, ax=axes, color=palette[0], label='RL (Act)', line_kws=line_kws, scatter_kws=scatter_kws)\n",
    "# sns.regplot(x=1-nef_wlr, y=nef_p_act, x_bins=w_bins, ax=axes, color=palette[1], label='NEF (Act)', line_kws=line_kws, scatter_kws=scatter_kws)\n",
    "# sns.regplot(x=monkey_w, y=monkey_p_act, x_bins=w_bins, ax=axes, color=palette[2], label='Monkey (Act)', line_kws=line_kws, scatter_kws=scatter_kws)\n",
    "# axes.legend()\n",
    "# axes.set(ylabel='Fraction of Decision Variable', title=\"dQ-i / dQ-total\", xlim=(0.2, 0.8), ylim=(0, 1), xlabel='Omega')\n",
    "# plt.tight_layout()"
   ]
  },
  {
   "cell_type": "markdown",
   "id": "81a94fa9-fae2-4a17-b902-836489d6e433",
   "metadata": {},
   "source": [
    "# Neuron selectivity"
   ]
  },
  {
   "cell_type": "code",
   "execution_count": 22,
   "id": "b0ddc323-01dc-4f6b-ad04-c2553bfd6f81",
   "metadata": {},
   "outputs": [],
   "source": [
    "def spike_entropy(spikes, values, spike_type, value_type, epsilon=1e-10, normalization='neuron'):\n",
    "    dfs = []\n",
    "    if value_type=='rl':\n",
    "        variables = ['va', 'vb', 'vl', 'vr', 'w', 'al', 'ar', 'dvc', 'dvs', 'dva']  #  \n",
    "    elif value_type=='nef':\n",
    "        variables = ['va', 'vb', 'vl', 'vr', 'wab', 'wlr', 'al', 'ar']  #  'evc', 'ewt'\n",
    "    columns = ['monkey', 'session', 'neuron', 'population', 'variable', 'weight', 'norm_weight', 'entropy']\n",
    "    for monkey in ['V', 'W']:\n",
    "        for session in [0,1,2,3]:\n",
    "            print(monkey, session)\n",
    "            X = []\n",
    "            Y = []\n",
    "            for block in values.query(\"monkey==@monkey & session==@session\")['block'].unique():\n",
    "                for trial in values.query(\"monkey==@monkey & session==@session & block==@block\")['trial'].unique():\n",
    "                    try:\n",
    "                        X.append(spikes[monkey][session][block][trial])\n",
    "                        y = []\n",
    "                        for variable in variables:\n",
    "                                yi = values.query(\"monkey==@monkey & session==@session & block==@block & trial==@trial\")[variable].to_numpy()[0]\n",
    "                                y.append(yi)\n",
    "                        Y.append(y)\n",
    "                    except:\n",
    "                        pass\n",
    "            X, Y = clean_paired_array_lists(X, Y)\n",
    "            n_neurons = X.shape[1]\n",
    "            pipeline = make_pipeline(StandardScaler(), Ridge(alpha=1.0))\n",
    "            pipeline.fit(X, Y)\n",
    "            ridge = pipeline.named_steps['ridge']  # Extract weights (neurons × variables)\n",
    "            sqr_weights = np.square(ridge.coef_.T)  # N × k (neurons × value variables)\n",
    "            if normalization=='global':\n",
    "                norm_weights = sqr_weights / (np.sum(sqr_weights) + epsilon) # Compute normalized squared weights\n",
    "            elif normalization=='neuron':\n",
    "                norm_weights = sqr_weights / (sqr_weights.sum(axis=1, keepdims=True) + epsilon) # Compute normalized squared weights\n",
    "            entropies = entropy(norm_weights.T + epsilon)  # Entropy per neuron; shape: (neurons,)\n",
    "            for v, variable in enumerate(variables):\n",
    "                # print(v, variable)\n",
    "                df = pd.DataFrame(columns=columns)\n",
    "                df['monkey'] = [monkey for _ in range(n_neurons)]\n",
    "                df['session'] = [session for _ in range(n_neurons)]\n",
    "                df['neuron'] = [n for n in range(n_neurons)]\n",
    "                if spike_type=='nef':\n",
    "                    pops = []\n",
    "                    for pop in ['v', 'w', 'a']:\n",
    "                        pops.extend([pop for _ in range(int(n_neurons/3))])\n",
    "                    df['population'] = pops\n",
    "                else:\n",
    "                    df['population'] = ['all' for n in range(n_neurons)]\n",
    "                df['variable'] = [variable for _ in range(n_neurons)]\n",
    "                df['entropy'] = entropies\n",
    "                df['weight'] = sqr_weights[:,v]\n",
    "                df['norm_weight'] = norm_weights[:,v]\n",
    "                dfs.append(df)\n",
    "    neuron_weights = pd.concat(dfs, ignore_index=True)\n",
    "    neuron_weights.to_pickle(\"data/nef_spikes/neuron_weights.pkl\")\n",
    "    return neuron_weights"
   ]
  },
  {
   "cell_type": "markdown",
   "id": "3ecf426f-e819-4ae5-921b-ea9c2eec903a",
   "metadata": {},
   "source": [
    "## NEF"
   ]
  },
  {
   "cell_type": "code",
   "execution_count": 16,
   "id": "79f60975-c958-48d4-9993-bc6efdc2520b",
   "metadata": {},
   "outputs": [
    {
     "name": "stdout",
     "output_type": "stream",
     "text": [
      "V 0\n",
      "V 1\n",
      "V 2\n",
      "V 3\n",
      "W 0\n",
      "W 1\n",
      "W 2\n",
      "W 3\n"
     ]
    }
   ],
   "source": [
    "neuron_weights = spike_entropy(nef_spikes, nef_values, 'nef', 'nef', normalization='neuron')"
   ]
  },
  {
   "cell_type": "code",
   "execution_count": 17,
   "id": "09f6c35a-7d0d-48e6-a7e4-6a732359ff08",
   "metadata": {},
   "outputs": [
    {
     "data": {
      "image/png": "[encoded data removed]",
      "text/plain": [
       "<Figure size 2000x400 with 8 Axes>"
      ]
     },
     "metadata": {},
     "output_type": "display_data"
    }
   ],
   "source": [
    "variables = neuron_weights['variable'].unique()\n",
    "fig, axes = plt.subplots(nrows=1, ncols=len(variables), figsize=(20, 4), sharey=True)\n",
    "for v, variable in enumerate(variables):\n",
    "    # sns.barplot(neuron_weights.query(\"variable==@variable\"), x='population', y='weight', ax=axes[v])\n",
    "    sns.barplot(neuron_weights.query(\"variable==@variable\"), x='population', y='norm_weight', ax=axes[v])\n",
    "    axes[v].set(title=variable)\n",
    "plt.show()"
   ]
  },
  {
   "cell_type": "code",
   "execution_count": 72,
   "id": "94872b9c-ba68-4960-ab57-3d276cfffba1",
   "metadata": {},
   "outputs": [
    {
     "data": {
      "image/png": "[encoded data removed]",
      "text/plain": [
       "<Figure size 2000x600 with 16 Axes>"
      ]
     },
     "metadata": {},
     "output_type": "display_data"
    }
   ],
   "source": [
    "percentile = 95\n",
    "variables = neuron_weights['variable'].unique()\n",
    "fig, axes = plt.subplots(nrows=2, ncols=len(variables), figsize=(20, 6), sharey='row')\n",
    "for v, variable in enumerate(variables):\n",
    "    nw = neuron_weights.query(\"variable==@variable\")\n",
    "    thr = np.percentile(nw['norm_weight'].to_numpy(), percentile)\n",
    "    top = nw.query(\"norm_weight>=@thr\")\n",
    "    sns.histplot(top, x='population', ax=axes[0][v], stat='percent', color=palette[0])\n",
    "    # look at the neurons in top, and plot their norm_weights for all variables\n",
    "    top_monkeys = top['monkey'].to_numpy()\n",
    "    top_sessions = top['session'].to_numpy()\n",
    "    top_neurons = top['neuron'].to_numpy()\n",
    "    key_df = pd.DataFrame({'monkey': top_monkeys, 'session': top_sessions, 'neuron': top_neurons})\n",
    "    filtered_df = neuron_weights.merge(key_df, on=['monkey', 'session', 'neuron'], how='inner')\n",
    "    sns.barplot(filtered_df, x='variable', y='norm_weight', ax=axes[1][v], color=palette[0])\n",
    "    axes[0][v].set(title=variable, ylabel=f'% of strongest encoding neurons')\n",
    "    axes[1][v].set(title=variable, ylabel=f'selectivity of strongest encoding neurons')\n",
    "plt.tight_layout()\n",
    "plt.show()"
   ]
  },
  {
   "cell_type": "markdown",
   "id": "3453d972-1199-42c9-b615-0568acfbbf6b",
   "metadata": {},
   "source": [
    "## Monkey"
   ]
  },
  {
   "cell_type": "code",
   "execution_count": 23,
   "id": "c6effd03-a93d-4a23-bf72-45db8ce0c38a",
   "metadata": {},
   "outputs": [
    {
     "name": "stdout",
     "output_type": "stream",
     "text": [
      "V 0\n",
      "V 1\n",
      "V 2\n",
      "V 3\n",
      "W 0\n",
      "W 1\n",
      "W 2\n",
      "W 3\n"
     ]
    }
   ],
   "source": [
    "monkey_neuron_weights = spike_entropy(monkey_spikes, rl_values, 'monkey', 'rl', normalization='neuron')"
   ]
  },
  {
   "cell_type": "code",
   "execution_count": 24,
   "id": "247bf6c1-69a6-4f8a-b353-6197115b21d3",
   "metadata": {},
   "outputs": [
    {
     "data": {
      "image/png": "[encoded data removed]",
      "text/plain": [
       "<Figure size 2400x300 with 10 Axes>"
      ]
     },
     "metadata": {},
     "output_type": "display_data"
    }
   ],
   "source": [
    "percentile = 95\n",
    "variables = monkey_neuron_weights['variable'].unique()\n",
    "fig, axes = plt.subplots(nrows=1, ncols=len(variables), figsize=(24, 3), sharey='row')\n",
    "for v, variable in enumerate(variables):\n",
    "    nw = monkey_neuron_weights.query(\"variable==@variable\")\n",
    "    thr = np.percentile(nw['norm_weight'].to_numpy(), percentile)\n",
    "    top = nw.query(\"norm_weight>=@thr\")\n",
    "    # look at the neurons in top, and plot their norm_weights for all variables\n",
    "    top_monkeys = top['monkey'].to_numpy()\n",
    "    top_sessions = top['session'].to_numpy()\n",
    "    top_neurons = top['neuron'].to_numpy()\n",
    "    key_df = pd.DataFrame({'monkey': top_monkeys, 'session': top_sessions, 'neuron': top_neurons})\n",
    "    filtered_df = monkey_neuron_weights.merge(key_df, on=['monkey', 'session', 'neuron'], how='inner')\n",
    "    sns.barplot(filtered_df, x='variable', y='norm_weight', ax=axes[v], color=palette[0])\n",
    "    axes[v].set(title=variable, ylabel=f'selectivity of strongest encoding neurons')\n",
    "plt.tight_layout()\n",
    "plt.show()"
   ]
  },
  {
   "cell_type": "markdown",
   "id": "395272a1-f3b7-4eb9-9fe0-cf7b4a809b74",
   "metadata": {},
   "source": [
    "# RSA"
   ]
  },
  {
   "cell_type": "code",
   "execution_count": 25,
   "id": "9754ff59-3615-4f26-a6b7-c34b26c57444",
   "metadata": {},
   "outputs": [],
   "source": [
    "# Flatten upper triangle to compute similarity\n",
    "def flatten_rdm(rdm):\n",
    "    return rdm[np.triu_indices_from(rdm, k=1)]"
   ]
  },
  {
   "cell_type": "code",
   "execution_count": 26,
   "id": "60ff0ec2-5930-4fb4-ae3b-763e43ee684a",
   "metadata": {},
   "outputs": [],
   "source": [
    "import numpy as np\n",
    "\n",
    "def clean_trial_data(X_list, Y_list):\n",
    "    \"\"\"\n",
    "    Filters trial-wise data from two lists:\n",
    "    - X_list: list of (n_neurons,) arrays\n",
    "    - Y_list: list of (n_variables,) arrays\n",
    "\n",
    "    Returns:\n",
    "        X_all: (n_good_trials, n_neurons)\n",
    "        Y_all: (n_good_trials, n_variables)\n",
    "    \"\"\"\n",
    "    assert len(X_list) == len(Y_list), \"X and Y must have the same number of trials\"\n",
    "\n",
    "    X_clean = []\n",
    "    Y_clean = []\n",
    "    expected_n_neurons = None\n",
    "    expected_n_vars = None\n",
    "\n",
    "    for X, Y in zip(X_list, Y_list):\n",
    "        # Check both are arrays\n",
    "        if not isinstance(X, np.ndarray) or not isinstance(Y, np.ndarray):\n",
    "            continue\n",
    "\n",
    "        # Check they are 1D\n",
    "        if X.ndim != 1 or Y.ndim != 1:\n",
    "            continue\n",
    "\n",
    "        # Set expected dimensions\n",
    "        if expected_n_neurons is None:\n",
    "            expected_n_neurons = X.shape[0]\n",
    "            expected_n_vars = Y.shape[0]\n",
    "\n",
    "        # Check correct dimensions\n",
    "        if X.shape[0] != expected_n_neurons or Y.shape[0] != expected_n_vars:\n",
    "            continue\n",
    "\n",
    "        # Check for NaNs or Infs\n",
    "        if np.any(np.isnan(X)) or np.any(np.isnan(Y)):\n",
    "            continue\n",
    "        if np.any(np.isinf(X)) or np.any(np.isinf(Y)):\n",
    "            continue\n",
    "\n",
    "        X_clean.append(X)\n",
    "        Y_clean.append(Y)\n",
    "\n",
    "    if not X_clean:\n",
    "        raise ValueError(\"No valid trials found after filtering.\")\n",
    "\n",
    "    X_all = np.stack(X_clean)\n",
    "    Y_all = np.stack(Y_clean)\n",
    "\n",
    "    print(f\"Kept {len(X_clean)} of {len(X_list)} trials\")\n",
    "\n",
    "    return X_all, Y_all\n"
   ]
  },
  {
   "cell_type": "code",
   "execution_count": 33,
   "id": "48622b28-14a8-4dde-9d84-525bdc58c739",
   "metadata": {},
   "outputs": [
    {
     "name": "stdout",
     "output_type": "stream",
     "text": [
      "763023617.0 2707.850051852183\n",
      "monkey V, session 0, Overall RSA Spearman r = 0.711, p = 0.000e+00\n",
      "716420147.0 2723.9142911781883\n",
      "monkey V, session 1, Overall RSA Spearman r = 0.643, p = 0.000e+00\n",
      "884823958.0 2750.3766326182213\n",
      "monkey V, session 2, Overall RSA Spearman r = 0.822, p = 0.000e+00\n",
      "657410297.0 1934.925340632479\n",
      "monkey V, session 3, Overall RSA Spearman r = 0.728, p = 0.000e+00\n",
      "267544005.0 1947.7738754976535\n",
      "monkey W, session 0, Overall RSA Spearman r = 0.780, p = 0.000e+00\n",
      "684517168.0 2517.7892162261332\n",
      "monkey W, session 1, Overall RSA Spearman r = 0.828, p = 0.000e+00\n",
      "492850145.0 2854.910076632876\n",
      "monkey W, session 2, Overall RSA Spearman r = 0.778, p = 0.000e+00\n",
      "629347705.0 2155.504144976899\n",
      "monkey W, session 3, Overall RSA Spearman r = 0.735, p = 0.000e+00\n"
     ]
    }
   ],
   "source": [
    "for monkey in ['V', 'W']:\n",
    "    for session in [0,1,2,3]:\n",
    "        X_neural = []\n",
    "        # for block in nef_spikes[monkey][session].keys():\n",
    "        #     for trial in nef_spikes[monkey][session][block].keys():\n",
    "        for block in nef_values.query(\"monkey==@monkey & session==@session\")['block'].unique():\n",
    "            for trial in nef_values.query(\"monkey==@monkey & session==@session & block==@block\")['trial'].unique():\n",
    "                X_neural.append(nef_spikes[monkey][session][block][trial])\n",
    "        X_neural = np.array(X_neural) # shape: (n_trials, n_neurons)\n",
    "        Y_values = nef_values.query(\"monkey==@monkey & session==@session\").to_numpy()[:,7:15]  # shape: (n_trials, n_values)\n",
    "        neural_rdm = squareform(pdist(X_neural, metric='correlation'))  # shape: (n_trials, n_trials)\n",
    "        model_rdm_combined = squareform(pdist(Y_values, metric='correlation'))  # shape: (n_trials, n_trials)\n",
    "        neural_vec = flatten_rdm(neural_rdm)\n",
    "        model_vec_combined = flatten_rdm(model_rdm_combined)\n",
    "        rsa_score, pval = spearmanr(neural_vec, model_vec_combined)  # Spearman correlation\n",
    "        print(X_neural.sum(), Y_values.sum())\n",
    "        print(f\"monkey {monkey}, session {session}, Overall RSA Spearman r = {rsa_score:.3f}, p = {pval:.3e}\")\n",
    "        # for i in range(Y_values.shape[1]):\n",
    "        #     col = Y_values[:, i].astype(float)\n",
    "        #     var = nef_values.columns[7:15][i]\n",
    "        #     model_rdm_i = squareform(pdist(col[:, None], metric='euclidean'))\n",
    "        #     model_vec_i = flatten_rdm(model_rdm_i)\n",
    "        #     neural_rdm_i = flatten_rdm(squareform(pdist(X_neural, metric='euclidean')))\n",
    "        #     r, p = spearmanr(neural_rdm_i, model_vec_i)\n",
    "        #     print(f\"monkey {monkey}, session {session}, variable {var}, RSA Spearman r = {r:.3f}, p = {p:.3e}\")"
   ]
  },
  {
   "cell_type": "code",
   "execution_count": 30,
   "id": "f060651d-4e65-4fda-bba5-72e16c543df1",
   "metadata": {
    "scrolled": true
   },
   "outputs": [
    {
     "name": "stdout",
     "output_type": "stream",
     "text": [
      "monkey V, session 0, Overall RSA Spearman r = 0.086, p = 0.000e+00\n",
      "monkey V, session 1, Overall RSA Spearman r = 0.188, p = 0.000e+00\n",
      "monkey V, session 2, Overall RSA Spearman r = 0.147, p = 0.000e+00\n",
      "monkey V, session 3, Overall RSA Spearman r = 0.177, p = 0.000e+00\n",
      "monkey W, session 0, Overall RSA Spearman r = 0.157, p = 0.000e+00\n",
      "monkey W, session 1, Overall RSA Spearman r = 0.130, p = 0.000e+00\n",
      "monkey W, session 2, Overall RSA Spearman r = 0.074, p = 0.000e+00\n",
      "monkey W, session 3, Overall RSA Spearman r = 0.058, p = 0.000e+00\n"
     ]
    }
   ],
   "source": [
    "for monkey in ['V', 'W']:\n",
    "    for session in [0,1,2,3]:\n",
    "        X_neural = []\n",
    "        Y_values = []\n",
    "        for block in rl_values.query(\"monkey==@monkey & session==@session\")['block'].unique():\n",
    "            for trial in rl_values.query(\"monkey==@monkey & session==@session & block==@block\")['trial'].unique():\n",
    "        # for block in monkey_spikes[monkey][session].keys():\n",
    "        #     for trial in monkey_spikes[monkey][session][block].keys():\n",
    "                try:\n",
    "                    x = monkey_spikes[monkey][session][block][trial]\n",
    "                    y = rl_values.query(\"monkey==@monkey & session==@session & block==@block & trial==@trial\").to_numpy()[:,4:11].flatten()\n",
    "                    # y = nef_values.query(\"monkey==@monkey & session==@session & block==@block & trial==@trial\").to_numpy()[:,7:15].flatten()\n",
    "                    X_neural.append(x.astype(float))\n",
    "                    Y_values.append(y.astype(float))\n",
    "                except:\n",
    "                    print(f\"skipping {monkey} {session} {block} {trial}\")\n",
    "        # X_neural, Y_values = clean_trial_data(X_neural, Y_values)\n",
    "        X_neural = np.array(X_neural) # shape: (n_trials, n_neurons)\n",
    "        Y_values = np.array(Y_values) # shape: (n_trials, n_values)\n",
    "        row_std = np.std(Y_values, axis=1)\n",
    "        keep = row_std > 1e-6\n",
    "        X_clean = X_neural[keep, :]  # Remove rows with low variance\n",
    "        Y_clean = Y_values[keep, :]  # Remove rows with low variance\n",
    "        # print(X_neural.sum(), Y_values.sum())\n",
    "        # print(X_clean.sum(), Y_clean.sum())\n",
    "        neural_rdm = squareform(pdist(X_clean, metric='correlation'))  # shape: (n_trials, n_trials)\n",
    "        # Y_values = rl_values.query(\"monkey==@monkey & session==@session\").to_numpy()[:,4:11]  # shape: (n_trials, n_values)\n",
    "        # Y_values = nef_values.query(\"monkey==@monkey & session==@session\").to_numpy()[:,7:15]  # shape: (n_trials, n_values)\n",
    "        model_rdm_combined = squareform(pdist(Y_clean, metric='correlation'))  # shape: (n_trials, n_trials)\n",
    "        neural_vec = flatten_rdm(neural_rdm)\n",
    "        model_vec_combined = flatten_rdm(model_rdm_combined)\n",
    "        # print(neural_rdm)\n",
    "        # print(model_rdm_combined)\n",
    "        rsa_score, pval = spearmanr(neural_vec, model_vec_combined)  # Spearman correlation\n",
    "        print(f\"monkey {monkey}, session {session}, Overall RSA Spearman r = {rsa_score:.3f}, p = {pval:.3e}\")"
   ]
  },
  {
   "cell_type": "code",
   "execution_count": null,
   "id": "f330657d-ad89-4af0-893f-fb53d774f631",
   "metadata": {},
   "outputs": [],
   "source": []
  }
 ],
 "metadata": {
  "kernelspec": {
   "display_name": "Python 3 (ipykernel)",
   "language": "python",
   "name": "python3"
  },
  "language_info": {
   "codemirror_mode": {
    "name": "ipython",
    "version": 3
   },
   "file_extension": ".py",
   "mimetype": "text/x-python",
   "name": "python",
   "nbconvert_exporter": "python",
   "pygments_lexer": "ipython3",
   "version": "3.11.10"
  }
 },
 "nbformat": 4,
 "nbformat_minor": 5
}
