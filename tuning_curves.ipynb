{
 "cells": [
  {
   "cell_type": "code",
   "execution_count": 1,
   "id": "2a0440e6-aae8-4dc7-9af3-43a15340d6fa",
   "metadata": {},
   "outputs": [],
   "source": [
    "import numpy as np\n",
    "import pandas as pd\n",
    "import pickle\n",
    "import matplotlib.pyplot as plt\n",
    "import seaborn as sns\n",
    "import time\n",
    "\n",
    "palette = sns.color_palette('tab10')\n",
    "sns.set_palette(palette)\n",
    "sns.set(context='paper', style='white', font=\"cmr10\", font_scale=1.0)\n",
    "plt.rcParams['axes.formatter.use_mathtext'] = True"
   ]
  },
  {
   "cell_type": "code",
   "execution_count": 2,
   "id": "a7e5c1d0-4653-4a13-a370-19d096119782",
   "metadata": {},
   "outputs": [],
   "source": [
    "def load_nef_values(load=True):\n",
    "    if load:\n",
    "        values = pd.read_pickle(\"data/nef_values_condensed.pkl\")\n",
    "    else:\n",
    "        emp = pd.read_pickle(\"data/empirical.pkl\")\n",
    "        dfs = []\n",
    "        for monkey in ['V', 'W']:\n",
    "            for session in [0,1,2,3]:\n",
    "                for block in emp.query(\"monkey==@monkey & session==@session\")['block'].unique():\n",
    "                    for trial in emp.query(\"monkey==@monkey & session==@session & block==@block\")['trial'].unique():\n",
    "                        file = f\"monkey{monkey}_session{session}_block{block}_trial{trial}\"\n",
    "                        dfs.append(pd.read_pickle(f'data/nef_spikes/{file}_values.pkl'))\n",
    "        values = pd.concat(dfs, ignore_index=True)\n",
    "        values['dvs'] = values['va'] - values['vb']\n",
    "        values['dva'] = values['vl'] - values['vr']\n",
    "        values = values.drop(columns='block_type')\n",
    "        values = values.drop(columns='before')\n",
    "        values = values.drop(columns='after')\n",
    "        values = values.drop(columns='acc')\n",
    "        values.to_pickle(\"data/nef_values_condensed.pkl\")\n",
    "    return values"
   ]
  },
  {
   "cell_type": "code",
   "execution_count": 3,
   "id": "bee6a7c8-e627-44e2-92ad-31c8ebb7362c",
   "metadata": {},
   "outputs": [],
   "source": [
    "def load_rl_values(load=True):\n",
    "    if load:\n",
    "        values = pd.read_pickle(\"data/rl_values_condensed.pkl\")\n",
    "    else:\n",
    "        dfs = []\n",
    "        for monkey in ['V', 'W']:\n",
    "            for session in [0,1,2,3]:\n",
    "                for block in range(1, 25):\n",
    "                    for trial in range(1, 81):\n",
    "                        file = f\"monkey{monkey}_session{session}_block{block}_trial{trial}\"\n",
    "                        try:\n",
    "                            dfs.append(pd.read_pickle(f'data/emp_spikes/{file}_values.pkl'))\n",
    "                        except:\n",
    "                            pass\n",
    "        values = pd.concat(dfs, ignore_index=True)\n",
    "        values.to_pickle(\"data/rl_values_condensed.pkl\")\n",
    "    return values"
   ]
  },
  {
   "cell_type": "code",
   "execution_count": 20,
   "id": "9a174c17-03ea-4a95-9930-8706620c827f",
   "metadata": {},
   "outputs": [],
   "source": [
    "def load_spikes(load=True, spike_type='nef'):\n",
    "    filename = f\"{spike_type}_spikes_dataframe\"\n",
    "    loadname = \"nef\" if spike_type=='nef' else 'emp'\n",
    "    if load:\n",
    "        dataframe_spikes = pd.read_pickle(f\"data/{filename}.pkl\")\n",
    "    else:\n",
    "        dfs = []\n",
    "        emp = pd.read_pickle(\"data/empirical.pkl\")\n",
    "        for monkey in emp['monkey'].unique():\n",
    "            for session in emp['session'].unique():\n",
    "                print(monkey, session)\n",
    "                for block in emp.query(\"monkey==@monkey & session==@session\")['block'].unique():\n",
    "                    for trial in emp.query(\"monkey==@monkey & session==@session & block==@block\")['trial'].unique():\n",
    "                        if spike_type=='nef':\n",
    "                            spikes = np.load(f\"data/{loadname}_spikes/monkey{monkey}_session{session}_block{block}_trial{trial}_spikes.npz\")['vwa'].sum(axis=0)  # sum over time\n",
    "                        else:\n",
    "                            try:\n",
    "                                spikes = np.load(f\"data/{loadname}_spikes/monkey{monkey}_session{session}_block{block}_trial{trial}_spikes.npz\")['spikes']\n",
    "                            except:\n",
    "                                print(monkey, session, block, trial)\n",
    "                                continue\n",
    "                        n_neurons = spikes.shape[0]\n",
    "                        df = pd.DataFrame()\n",
    "                        df['monkey'] = [monkey for _ in range(n_neurons)]\n",
    "                        df['session'] = [session for _ in range(n_neurons)]\n",
    "                        df['block'] = [block for _ in range(n_neurons)]\n",
    "                        df['trial'] = [trial for _ in range(n_neurons)]\n",
    "                        df['neuron'] = [n for n in range(n_neurons)]\n",
    "                        df['spikes'] = [spikes[n] for n in range(n_neurons)]\n",
    "                        dfs.append(df)\n",
    "        dataframe_spikes = pd.concat(dfs, ignore_index=True)\n",
    "        dataframe_spikes.to_pickle(f\"data/{filename}.pkl\")\n",
    "    return dataframe_spikes"
   ]
  },
  {
   "cell_type": "code",
   "execution_count": 12,
   "id": "f62f3a06-116d-4b47-ac0a-bed159cfde34",
   "metadata": {},
   "outputs": [],
   "source": [
    "nef_spikes = load_spikes(load=True, spike_type='nef')"
   ]
  },
  {
   "cell_type": "code",
   "execution_count": 22,
   "id": "527a8b26-255a-4b5c-aba7-0d177cbd6b0a",
   "metadata": {},
   "outputs": [],
   "source": [
    "monkey_spikes = load_spikes(load=True, spike_type='monkey')"
   ]
  },
  {
   "cell_type": "code",
   "execution_count": 26,
   "id": "9daafaea-7e79-4f47-810f-fca08a1d503e",
   "metadata": {},
   "outputs": [],
   "source": [
    "nef_values = load_nef_values()"
   ]
  },
  {
   "cell_type": "code",
   "execution_count": 27,
   "id": "d2496365-7088-43ec-9a7f-86773f24df9d",
   "metadata": {},
   "outputs": [],
   "source": [
    "rl_values = load_rl_values()"
   ]
  },
  {
   "cell_type": "code",
   "execution_count": 68,
   "id": "f34f8437-82c9-41e0-b370-14062732c50d",
   "metadata": {},
   "outputs": [],
   "source": [
    "nef_weights = pd.read_pickle(\"data/nef_weight_vwa.pkl\")"
   ]
  },
  {
   "cell_type": "code",
   "execution_count": 65,
   "id": "8fc1ef12-63e1-4b3f-a420-ebc1e89a0b47",
   "metadata": {},
   "outputs": [],
   "source": [
    "def get_top_neurons(df_weights, monkey, session, target_variable, top_n=1):\n",
    "    df_filtered = df_weights[\n",
    "        (df_weights['monkey'] == monkey) &\n",
    "        (df_weights['session'] == session) &\n",
    "        (df_weights['variable'] == target_variable)\n",
    "    ]\n",
    "    if df_filtered.empty:\n",
    "        return []\n",
    "    # Sort by weight descending and return top N neuron IDs\n",
    "    top_neurons = df_filtered.sort_values('weight', ascending=False)['neuron'].head(top_n).tolist()\n",
    "    return top_neurons"
   ]
  },
  {
   "cell_type": "code",
   "execution_count": 47,
   "id": "e3f9ba19-dbdd-4d4a-81a4-71deb7d33bb3",
   "metadata": {},
   "outputs": [],
   "source": [
    "def compute_x_bins(df_values, target_variable, method='uniform', n_bins=10):\n",
    "    x = df_values[target_variable].dropna()\n",
    "    if method == 'uniform':\n",
    "        # Equal-width bins between min and max\n",
    "        bin_edges = np.linspace(x.min(), x.max(), n_bins + 1)\n",
    "    elif method == 'quantile':\n",
    "        # Quantile-based bin edges (equal number of samples per bin)\n",
    "        bin_edges = np.unique(np.quantile(x, q=np.linspace(0, 1, n_bins + 1)))\n",
    "    else:\n",
    "        raise ValueError(\"method must be either 'uniform' or 'quantile'\")\n",
    "    return bin_edges"
   ]
  },
  {
   "cell_type": "code",
   "execution_count": 114,
   "id": "b81d9483-ce32-4f19-b544-c3e602a3c47e",
   "metadata": {},
   "outputs": [],
   "source": [
    "def plot_multi_variable_tuning(\n",
    "    df_spikes, df_values,\n",
    "    monkey, session, neuron,\n",
    "    all_variables, target_variable,\n",
    "    bin_method='uniform', n_bins=10, order=2):\n",
    "\n",
    "    # Filter data\n",
    "    merge_keys = ['monkey', 'session', 'block', 'trial']\n",
    "    df_neuron = df_spikes[\n",
    "        (df_spikes['monkey'] == monkey) &\n",
    "        (df_spikes['session'] == session) &\n",
    "        (df_spikes['neuron'] == neuron)\n",
    "    ]\n",
    "    df_values_filtered = df_values[\n",
    "        (df_values['monkey'] == monkey) &\n",
    "        (df_values['session'] == session)\n",
    "    ]\n",
    "    df_merged = pd.merge(df_neuron, df_values_filtered, on=merge_keys)\n",
    "\n",
    "    if df_merged.empty:\n",
    "        print(f\"No data for monkey {monkey}, session {session}, neuron {neuron}\")\n",
    "        return\n",
    "\n",
    "    # Set up horizontal layout\n",
    "    n_vars = len(all_variables)\n",
    "    fig, axes = plt.subplots(1, n_vars, figsize=(2 * n_vars, 3), sharey=True)\n",
    "\n",
    "    if n_vars == 1:\n",
    "        axes = [axes]  # Make iterable\n",
    "\n",
    "    for idx, var in enumerate(all_variables):\n",
    "        ax = axes[idx]\n",
    "\n",
    "        if var not in df_merged.columns or df_merged[var].isna().all():\n",
    "            ax.set_visible(False)\n",
    "            continue\n",
    "\n",
    "        try:\n",
    "            x_bins = compute_x_bins(df_merged, var, method=bin_method, n_bins=n_bins)\n",
    "        except:\n",
    "            ax.set_visible(False)\n",
    "            continue\n",
    "\n",
    "        # sns.regplot(data=df_merged,x=var, y='spikes',x_bins=x_bins,order=order,ax=ax,color=palette[0])\n",
    "\n",
    "        df_merged['bin'] = pd.cut(df_merged[var], bins=x_bins, include_lowest=True)\n",
    "        df_merged['bin_center'] = df_merged['bin'].apply(lambda b: (b.left + b.right) / 2)\n",
    "\n",
    "        sns.lineplot(data=df_merged, x='bin_center', y='spikes', ax=ax, color=palette[0])\n",
    "\n",
    "        # bin_centers = sorted(df_merged['bin_center'].unique())\n",
    "        # ax.set_xticks(bin_centers)\n",
    "        # ax.set_xticklabels([f\"{x:.2f}\" for x in bin_centers], rotation=45)\n",
    "\n",
    "        # Highlight target variable\n",
    "        if var == target_variable:\n",
    "            for spine in ax.spines.values():\n",
    "                spine.set_linewidth(2)\n",
    "        \n",
    "        ax.set_ylabel(\"Spike Count\" if idx == 0 else \"\")\n",
    "        ax.set_xlabel(var)\n",
    "        ax.set(xlim=(-1,1))\n",
    "\n",
    "    fig.suptitle(\n",
    "        f\"Tuning Curves for Monkey {monkey}, Session {session}, Neuron {neuron}\",\n",
    "        fontsize=14, fontweight='bold'\n",
    "    )\n",
    "    plt.tight_layout()\n",
    "    plt.show()"
   ]
  },
  {
   "cell_type": "code",
   "execution_count": 116,
   "id": "86fd1774-d587-40cd-b121-e9b3712d59be",
   "metadata": {},
   "outputs": [
    {
     "data": {
      "image/png": "[encoded data removed]",
      "text/plain": [
       "<Figure size 1400x300 with 7 Axes>"
      ]
     },
     "metadata": {},
     "output_type": "display_data"
    }
   ],
   "source": [
    "monkey = 'V'\n",
    "session = 1\n",
    "target_variable = 'vr'\n",
    "all_variables = ['va', 'vb', 'vl', 'vr', 'w', 'al', 'ar']\n",
    "top_n = 1\n",
    "top_neurons = get_top_neurons(nef_weights, monkey=monkey, session=session, target_variable=target_variable, top_n=top_n)\n",
    "\n",
    "plot_multi_variable_tuning(nef_spikes,nef_values,\n",
    "        monkey=monkey, session=session,\n",
    "        neuron=top_neurons[0],\n",
    "        all_variables=all_variables,\n",
    "        target_variable=target_variable,\n",
    "        bin_method='uniform')"
   ]
  },
  {
   "cell_type": "code",
   "execution_count": null,
   "id": "2edfc45c-6704-415c-a793-ae0a5b91e113",
   "metadata": {},
   "outputs": [],
   "source": []
  },
  {
   "cell_type": "code",
   "execution_count": null,
   "id": "7df2627d-e2f9-4d8c-b3f3-5bded8723005",
   "metadata": {},
   "outputs": [],
   "source": []
  }
 ],
 "metadata": {
  "kernelspec": {
   "display_name": "Python 3 (ipykernel)",
   "language": "python",
   "name": "python3"
  },
  "language_info": {
   "codemirror_mode": {
    "name": "ipython",
    "version": 3
   },
   "file_extension": ".py",
   "mimetype": "text/x-python",
   "name": "python",
   "nbconvert_exporter": "python",
   "pygments_lexer": "ipython3",
   "version": "3.11.10"
  }
 },
 "nbformat": 4,
 "nbformat_minor": 5
}
